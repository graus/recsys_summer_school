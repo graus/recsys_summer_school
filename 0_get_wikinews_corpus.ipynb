{
 "cells": [
  {
   "cell_type": "markdown",
   "metadata": {},
   "source": [
    "Get Wikinews\n",
    "===\n",
    "\n",
    "First, we need a corpus of news to work with. \n",
    "We'll use the `textacy` library, which conveniently provides an interface for getting a full, cleaned dump of Wikinews ([ref](https://chartbeat-labs.github.io/textacy/api_reference/datasets.html#textacy.datasets.wikimedia.Wikinews)).\n",
    "Note that you can pick any language of choice, but you need to download the corresponding spacy language model, using:\n",
    "\n",
    "\n",
    "```bash\n",
    "python -m spacy download en_core_web_md\n",
    "```\n",
    "\n",
    "(note: take the spacy [`md` or `lg` models](https://spacy.io/models/en); the `sm` do not have word vectors)"
   ]
  },
  {
   "cell_type": "code",
   "execution_count": 9,
   "metadata": {},
   "outputs": [],
   "source": [
    "import textacy\n",
    "from textacy.datasets.wikimedia import Wikinews\n",
    "\n",
    "wikinews = Wikinews(lang=\"en\", version=\"current\", data_dir=\"./data\")\n",
    "wikinews.download()"
   ]
  },
  {
   "cell_type": "markdown",
   "metadata": {},
   "source": [
    "textacy.Corpus\n",
    "-----\n",
    "We'll then transform our `wikinews` dataset into a `textacy.Corpus`, or: \n",
    "\n",
    "> *An ordered collection of spacy.tokens.Doc* ([source](https://chartbeat-labs.github.io/textacy/api_reference/lang_doc_corpus.html#textacy.corpus.Corpus))\n",
    "\n",
    "Which allows us to extract advanced representations from the article content using spaCy's `Doc` objects, see [spaCy.Doc's API reference](https://spacy.io/api/doc).\n",
    "\n",
    "Note that we need to pass a (previously downloaded) `spacy` model (i.e., either `en_core_web_md` or `en_core_web_lg`) to the `Corpus` initialization to ensure we have (GloVe) vectors for our words and documents."
   ]
  },
  {
   "cell_type": "code",
   "execution_count": 11,
   "metadata": {},
   "outputs": [],
   "source": [
    "corpus = textacy.Corpus(\"en_core_web_md\", data=wikinews.records())  # Convert to textacy.Corpus\n",
    "corpus.save(\"./data/enwikinews/textacy_corpus.bin.gz\")              # Saves to disk"
   ]
  }
 ],
 "metadata": {
  "kernelspec": {
   "display_name": "Python 3",
   "language": "python",
   "name": "python3"
  },
  "language_info": {
   "codemirror_mode": {
    "name": "ipython",
    "version": 3
   },
   "file_extension": ".py",
   "mimetype": "text/x-python",
   "name": "python",
   "nbconvert_exporter": "python",
   "pygments_lexer": "ipython3",
   "version": "3.6.5"
  }
 },
 "nbformat": 4,
 "nbformat_minor": 1
}
