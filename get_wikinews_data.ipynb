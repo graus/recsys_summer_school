{
 "cells": [
  {
   "cell_type": "code",
   "execution_count": null,
   "metadata": {},
   "outputs": [],
   "source": [
    "import textacy\n",
    "from textacy.datasets.wikimedia import Wikinews"
   ]
  },
  {
   "cell_type": "markdown",
   "metadata": {},
   "source": [
    "Get Wikinews\n",
    "===\n",
    "\n",
    "First, we need a corpus of news to work with. \n",
    "We'll use the `textacy` library, which conveniently provides an interface for getting a full, cleaned dump of Wikinews ([ref](https://chartbeat-labs.github.io/textacy/api_reference/datasets.html#textacy.datasets.wikimedia.Wikinews)).\n",
    "Note that you can pick any language of choice, but you need to download the corresponding spacy language model, using:\n",
    "\n",
    "```bash\n",
    "python -m spacy download <lang>\n",
    "```"
   ]
  },
  {
   "cell_type": "code",
   "execution_count": null,
   "metadata": {},
   "outputs": [],
   "source": [
    "wikinews = Wikinews(lang=\"en\", version=\"current\", data_dir=\"./data\")\n",
    "wikinews.download()"
   ]
  },
  {
   "cell_type": "markdown",
   "metadata": {},
   "source": [
    "Wikinews.records\n",
    "--------\n",
    "`wikinews` contains `.records`, or tuples of documents and corresponding metadata, e.g. `for doc, meta in wikinews.records(limit=5):`, yields:\n",
    "\n",
    "1. `meta`: A dictionary containing metadata, e.g.:\n",
    "```python\n",
    "{'page_id': '37488', \n",
    " 'title': 'News briefs:March 30, 2006', \n",
    " 'headings': ('Audio Wikinews transcript, 2006-03-30 0730 UTC', ...), \n",
    " 'wiki_links': ('Cyclone_Glenda_closes_in_on_Western_Australia', ...), \n",
    " 'ext_links': (), \n",
    " 'categories': ('March 30, 2006', 'Brief'), \n",
    " 'dt_created': '2006-03-30T07:31:33Z', \n",
    " 'n_incoming_links': 5, \n",
    " 'popularity_score': 1.985466386054084e-06}\n",
    "```\n",
    "\n",
    "1. `doc`: The parsed/cleaned article content:\n",
    "```\n",
    "\"I'm Phillip Hong. The time is 0730 UTC on Wednesday the 30th of March 2006, and this is Audio Wikinews: News Briefs. UK public sector workers strike over pension rights Government workers in the UK withdrew [...]\"\n",
    "```\n",
    "\n",
    "textacy.Corpus\n",
    "-----\n",
    "We'll now transform our `wikinews` dataset into a `textacy.Corpus`, or *An ordered collection of spacy.tokens.Doc* ([source](https://chartbeat-labs.github.io/textacy/api_reference/lang_doc_corpus.html#textacy.corpus.Corpus)), which allows us to extract advanced representations from the article content using spaCy's `Doc` objects, e.g., for each doc we have:\n",
    "\n",
    "```python\n",
    "doc.ents: (Phillip Hong, 0730, Wednesday the 30th of March 2006, ...)  # named entities\n",
    "doc.vector: [ 1.1235747e+00 -1.4028672e+00 -1.1004950e+00 ... ]  # average of tokens' word embeddings\n",
    "doc.sentiment: 0.0  # article's sentiment score\n",
    "```\n",
    "\n",
    "([And more...](https://spacy.io/api/doc))"
   ]
  },
  {
   "cell_type": "code",
   "execution_count": null,
   "metadata": {},
   "outputs": [],
   "source": [
    "#corpus = textacy.Corpus(\"en\", data=wikinews.records())\n",
    "#corpus.save(\"./data/enwikinews/textacy_corpus.bin.gz\")"
   ]
  },
  {
   "cell_type": "code",
   "execution_count": null,
   "metadata": {},
   "outputs": [],
   "source": [
    "corpus = textacy.Corpus.load(\"en\", \"./data/enwikinews/textacy_corpus.bin.gz\")  # takes about 3min on my laptop..."
   ]
  },
  {
   "cell_type": "markdown",
   "metadata": {},
   "source": [
    "Since corpus only stores the article text, and the `wikinews` object doesn't support indexing, we'll make sure to store our metadata alongside the corpus, for easy retrieval. "
   ]
  },
  {
   "cell_type": "code",
   "execution_count": null,
   "metadata": {},
   "outputs": [],
   "source": [
    "meta = [m for d, m in wikinews.records()]"
   ]
  },
  {
   "cell_type": "code",
   "execution_count": null,
   "metadata": {},
   "outputs": [],
   "source": [
    "import json\n",
    "with open('./data/enwikinews/meta.json', 'w') as out_file:\n",
    "        json.dump(meta, out_file)"
   ]
  }
 ],
 "metadata": {
  "kernelspec": {
   "display_name": "Python 3",
   "language": "python",
   "name": "python3"
  },
  "language_info": {
   "codemirror_mode": {
    "name": "ipython",
    "version": 3
   },
   "file_extension": ".py",
   "mimetype": "text/x-python",
   "name": "python",
   "nbconvert_exporter": "python",
   "pygments_lexer": "ipython3",
   "version": "3.6.5"
  }
 },
 "nbformat": 4,
 "nbformat_minor": 1
}
