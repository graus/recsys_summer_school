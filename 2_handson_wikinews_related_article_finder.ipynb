{
  "cells": [
    {
      "cell_type": "markdown",
      "source": [
        "https://github.com/graus/recsys_summer_school\n",
        "\n",
        "**Issues**:\n",
        "- Need to install c++ compiler. Resolution: don't try right now. Find a buddy.\n",
        "- Spacy model `en_core_web_md` is not found. `!python3 -m spacy download en_core_web_md` and restart kernel.\n",
        "- Typo in `candidate_retriever`, change to: `candidates = corpus.get(lambda x: \"Obituaries\" in x._.meta['categories'], limit=limit)` (remove o and add ]).\n"
      ],
      "metadata": {}
    },
    {
      "cell_type": "markdown",
      "source": [
        "# Requirements\n",
        "\n",
        "Download the pre-cooked `textacy.Corpus` from Dropbox: [Download here](https://www.dropbox.com/s/wlbyvxdfnx748bg/textacy_corpus.bin.gz?dl=1) (118MB) to `./data/enwikinews/`.\n"
      ],
      "metadata": {}
    },
    {
      "cell_type": "code",
      "source": [
        "import textacy\n",
        "from datetime import datetime\n",
        "\n",
        "dt_format = \"%Y-%m-%dT%H:%M:%SZ\"  # for parsing Wikinews' timestamps"
      ],
      "outputs": [],
      "execution_count": 1,
      "metadata": {}
    },
    {
      "cell_type": "code",
      "source": [
        "corpus = textacy.Corpus.load(\"en_core_web_md\", \"./data/enwikinews/textacy_corpus.bin.gz\")"
      ],
      "outputs": [],
      "execution_count": 2,
      "metadata": {}
    },
    {
      "cell_type": "markdown",
      "source": [
        "# Assigment\n",
        "\n",
        "This hands on session aims to improve Wikinews' existing \"Related articles\"-widget, by incorporating a two-step pre-retrieval and re-rank methodology. More specifically, we expect you to create:\n",
        "\n",
        "### 1. Candidate retrieval\n",
        "\n",
        "One method that takes as input a `textacy.Corpus` document, and as output a (ranked) list of candidate 'related articles'. A textacy-based reimplementation of a simple `candidate_retriever` could be:\n"
      ],
      "metadata": {}
    },
    {
      "cell_type": "code",
      "source": [
        "def candidate_retriever(doc, corpus, limit=10):\n",
        "    \"\"\"\n",
        "    Retrieve candidate articles \"related\" to doc in corpus\n",
        "    \"related\" here means documents that have one or more categories in common.\n",
        "    \"\"\"\n",
        "    \n",
        "    doc_categories = doc._.meta[\"categories\"]\n",
        "    \n",
        "    # Match if the candidate doc (`c`) has any category overlapping with input doc (`doc`)\n",
        "    match_func = lambda c: any([cat in doc_categories \n",
        "                                for cat in c._.meta.get(\"categories\")])\n",
        "    \n",
        "    # match_func = lambda c: \"Obituaries\" in c._.meta['categories']  # Or: match category \"Obituaries\"\n",
        "    \n",
        "    candidates = corpus.get(lambda x: \"Obituaries\" in x._.meta['categories'], limit=limit)\n",
        "    \n",
        "    return candidates"
      ],
      "outputs": [],
      "execution_count": 3,
      "metadata": {}
    },
    {
      "cell_type": "markdown",
      "source": [
        "### 2. Re-ranking\n",
        "\n",
        "The second step consists of re-ranking the set of candidate articles using some criterium. In the case of Wikinews, it is ranked by recency (newest first), i.e.;"
      ],
      "metadata": {}
    },
    {
      "cell_type": "code",
      "source": [
        "def re_ranker(doc, candidates):\n",
        "    \"\"\" Sorts candidates by date created\"\"\"\n",
        "    \n",
        "    ranked_candidates = sorted(list(candidates), key=lambda x: datetime.strptime(x._.meta['dt_created'], dt_format), reverse = True)\n",
        "    \n",
        "    # Ranking by similarity on document vectors:\n",
        "    # ranked_candidates = sorted(list(candidates), key=lambda x: sum(doc.vector * x.vector), reverse = True)\n",
        "    \n",
        "    return ranked_candidates"
      ],
      "outputs": [],
      "execution_count": 4,
      "metadata": {}
    },
    {
      "cell_type": "code",
      "source": [
        "candidates = candidate_retriever(corpus[16127], corpus)\n",
        "ranked_candidates = re_ranker(corpus[16127], candidates)"
      ],
      "outputs": [],
      "execution_count": 5,
      "metadata": {}
    },
    {
      "cell_type": "code",
      "source": [
        "print(corpus[16127]._.meta['dt_created'], corpus[16127]._.meta['title'])\n",
        "print(80*'-')\n",
        "for c in ranked_candidates:\n",
        "    print(c._.meta['dt_created'], c._.meta['title'])"
      ],
      "outputs": [
        {
          "output_type": "stream",
          "name": "stdout",
          "text": [
            "2018-04-21T02:39:45Z 28-year-old Swedish electronic dance music artist Avicii dies in Oman\n",
            "--------------------------------------------------------------------------------\n",
            "2009-05-23T05:24:13Z Former South Korean President dead after apparent suicide\n",
            "2008-09-08T01:21:55Z Silent film actress Anita Page dies at age 98\n",
            "2008-06-13T19:59:12Z Tim Russert, NBC News \"Meet the Press\" moderator dies at age 58\n",
            "2007-08-14T02:02:52Z American philanthropist Brooke Astor dies at 105\n",
            "2007-08-11T08:00:37Z Tony Wilson dies\n",
            "2007-07-12T10:49:17Z Australian radio personality Stan Zemanek dies aged 60\n",
            "2007-06-26T01:01:08Z Professional wrestler Chris Benoit and family found dead\n",
            "2006-05-29T07:45:06Z Australian woman dies in backburning operation near Bathurst\n",
            "2005-08-17T02:35:46Z Taizé ecumenical community founder Frère Roger assassinated\n",
            "2005-02-11T20:58:49Z Arthur Miller dies, aged 89\n"
          ]
        }
      ],
      "execution_count": 6,
      "metadata": {}
    }
  ],
  "metadata": {
    "kernelspec": {
      "name": "python3",
      "language": "python",
      "display_name": "Python 3"
    },
    "language_info": {
      "name": "python",
      "version": "3.7.2",
      "mimetype": "text/x-python",
      "codemirror_mode": {
        "name": "ipython",
        "version": 3
      },
      "pygments_lexer": "ipython3",
      "nbconvert_exporter": "python",
      "file_extension": ".py"
    },
    "kernel_info": {
      "name": "python3"
    },
    "nteract": {
      "version": "0.14.5"
    }
  },
  "nbformat": 4,
  "nbformat_minor": 2
}