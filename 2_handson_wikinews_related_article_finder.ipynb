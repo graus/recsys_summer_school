{
 "cells": [
  {
   "cell_type": "markdown",
   "metadata": {},
   "source": [
    "# Requirements"
   ]
  },
  {
   "cell_type": "code",
   "execution_count": 1,
   "metadata": {},
   "outputs": [],
   "source": [
    "import textacy\n",
    "corpus = textacy.Corpus.load(\"en_core_web_md\", \"./data/enwikinews/textacy_corpus.bin.gz\")"
   ]
  },
  {
   "cell_type": "markdown",
   "metadata": {},
   "source": [
    "# Assigment\n",
    "\n",
    "This hands on session aims to improve Wikinews' existing \"Related articles\"-widget, by incorporating a two-step pre-retrieval and re-rank methodology. More specifically, we expect you to create:\n",
    "\n",
    "### 1. Candidate retrieval\n",
    "\n",
    "One method that takes as input a `textacy.Corpus` document, and as output a (ranked) list of candidate 'related articles'. A textacy-based reimplementation of a simple `candidate_retriever` could be:\n"
   ]
  },
  {
   "cell_type": "code",
   "execution_count": 65,
   "metadata": {},
   "outputs": [],
   "source": [
    "def candidate_retriever(doc, corpus, limit=10):\n",
    "    \"\"\"\n",
    "    Retrieve candidate articles \"related\" to doc in corpus\n",
    "    # Fetches documents that have one or more categories in common\n",
    "    \"\"\"\n",
    "    \n",
    "    doc_categories = doc._.meta[\"categories\"]\n",
    "    \n",
    "    match_func = lambda x: any([cat in doc_categories \n",
    "                                for cat in x._.meta.get(\"categories\")])\n",
    "    \n",
    "    candidates = corpus.get(match_func, limit=limit)\n",
    "    \n",
    "    return candidates"
   ]
  },
  {
   "cell_type": "code",
   "execution_count": 66,
   "metadata": {},
   "outputs": [],
   "source": [
    "def re_ranker(candidates):\n",
    "    \"\"\" Sorts candidates by date created\"\"\"\n",
    "    \n",
    "    return sorted(candidates, key=lambda x: datetime.datetime.strptime(x._.meta['dt_created'], dt_format), \n",
    "                  reverse = True)"
   ]
  },
  {
   "cell_type": "code",
   "execution_count": 67,
   "metadata": {},
   "outputs": [],
   "source": [
    "candidates = candidate_retriever(corpus[2344], corpus)"
   ]
  },
  {
   "cell_type": "code",
   "execution_count": 68,
   "metadata": {},
   "outputs": [],
   "source": [
    "ranked_candidates = re_ranker(candidates)"
   ]
  },
  {
   "cell_type": "code",
   "execution_count": 69,
   "metadata": {},
   "outputs": [
    {
     "name": "stdout",
     "output_type": "stream",
     "text": [
      "2010-10-31T12:08:17Z Cholera spreads to Port-au-Prince, five cases reported\n",
      "2005-06-04T04:00:35Z First winter snowfall in New Zealand\n",
      "2005-05-06T06:17:56Z Surprise win for RESPECT Party in UK 2005 General Election\n",
      "2005-05-02T03:56:22Z Charity haircuts and collaborative art at spring festival in Cambridge, Massachusetts\n",
      "2005-04-04T04:53:15Z UK Prime Minister sets 2005 General Election date\n",
      "2005-02-18T13:55:08Z Crosswords/2005/February/19\n",
      "2005-02-11T20:58:49Z Arthur Miller dies, aged 89\n",
      "2005-02-02T05:15:08Z New drugs listed on Australian Pharmaceutical Benefits Scheme\n",
      "2004-12-09T03:42:22Z Blair wishes to cooperate with the United States to reduce climatic change\n",
      "2004-11-18T06:35:42Z Speculation arises as North Korean media drops Kim Jong Il's title\n"
     ]
    }
   ],
   "source": [
    "for c in ranked_candidates:\n",
    "    print(c._.meta['dt_created'], c._.meta['title'])"
   ]
  }
 ],
 "metadata": {
  "kernelspec": {
   "display_name": "Python 3",
   "language": "python",
   "name": "python3"
  },
  "language_info": {
   "codemirror_mode": {
    "name": "ipython",
    "version": 3
   },
   "file_extension": ".py",
   "mimetype": "text/x-python",
   "name": "python",
   "nbconvert_exporter": "python",
   "pygments_lexer": "ipython3",
   "version": "3.6.5"
  }
 },
 "nbformat": 4,
 "nbformat_minor": 2
}
